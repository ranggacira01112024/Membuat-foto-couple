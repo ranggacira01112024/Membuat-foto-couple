{
  "nbformat": 4,
  "nbformat_minor": 0,
  "metadata": {
    "colab": {
      "provenance": [],
      "authorship_tag": "ABX9TyOWboql3JrSqKDUdYxPKWPa",
      "include_colab_link": true
    },
    "kernelspec": {
      "name": "python3",
      "display_name": "Python 3"
    },
    "language_info": {
      "name": "python"
    }
  },
  "cells": [
    {
      "cell_type": "markdown",
      "metadata": {
        "id": "view-in-github",
        "colab_type": "text"
      },
      "source": [
        "<a href=\"https://colab.research.google.com/github/ranggacira01112024/Membuat-foto-couple/blob/main/Membuat_foto_couple.ipynb\" target=\"_parent\"><img src=\"https://colab.research.google.com/assets/colab-badge.svg\" alt=\"Open In Colab\"/></a>"
      ]
    },
    {
      "cell_type": "code",
      "execution_count": 1,
      "metadata": {
        "colab": {
          "base_uri": "https://localhost:8080/"
        },
        "id": "nEOq9V4vs9t3",
        "outputId": "d92a572c-d88c-4047-b42a-d11b255a8d10"
      },
      "outputs": [
        {
          "output_type": "stream",
          "name": "stdout",
          "text": [
            "Requirement already satisfied: pillow in /usr/local/lib/python3.10/dist-packages (11.0.0)\n"
          ]
        }
      ],
      "source": [
        "pip install pillow"
      ]
    },
    {
      "cell_type": "code",
      "source": [
        "from PIL import Image\n",
        "\n",
        "def create_couple_image(image1_path, image2_path, output_path):\n",
        "    try:\n",
        "        # Membuka gambar\n",
        "        img1 = Image.open(image1_path).convert(\"RGB\")  # Konversi ke RGB\n",
        "        img2 = Image.open(image2_path).convert(\"RGB\")  # Konversi ke RGB\n",
        "\n",
        "        # Menyesuaikan ukuran kedua gambar agar sama\n",
        "        img1 = img1.resize((512, 512))\n",
        "        img2 = img2.resize((512, 512))\n",
        "\n",
        "        # Membuat canvas untuk menggabungkan kedua gambar\n",
        "        result_width = img1.width + img2.width\n",
        "        result_height = max(img1.height, img2.height)\n",
        "        result_image = Image.new(\"RGB\", (result_width, result_height))\n",
        "\n",
        "        # Menempelkan gambar ke canvas\n",
        "        result_image.paste(img1, (0, 0))\n",
        "        result_image.paste(img2, (img1.width, 0))\n",
        "\n",
        "        # Menyimpan hasilnya\n",
        "        result_image.save(output_path)\n",
        "        print(f\"Foto couple berhasil dibuat: {output_path}\")\n",
        "\n",
        "    except FileNotFoundError:\n",
        "        print(\"Error: File gambar tidak ditemukan. Pastikan path-nya benar.\")\n",
        "    except PermissionError:\n",
        "        print(\"Error: Tidak memiliki izin untuk membaca atau menulis file.\")\n",
        "    except Exception as e:\n",
        "        print(f\"Error tidak terduga: {e}\")\n",
        "\n",
        "# Path gambar dan output\n",
        "image1_path = \"image1.jpg\"  # Ganti dengan path gambar pertama\n",
        "image2_path = \"image2.jpg\"  # Ganti dengan path gambar kedua\n",
        "output_path = \"couple_photo.jpg\"\n",
        "\n",
        "# Membuat foto couple\n",
        "create_couple_image(image1_path, image2_path, output_path)"
      ],
      "metadata": {
        "colab": {
          "base_uri": "https://localhost:8080/"
        },
        "id": "hI6LQDgPtL9H",
        "outputId": "06bf2bbc-84d1-4786-998c-994ea3941ad4"
      },
      "execution_count": 7,
      "outputs": [
        {
          "output_type": "stream",
          "name": "stdout",
          "text": [
            "Error: File gambar tidak ditemukan. Pastikan path-nya benar.\n"
          ]
        }
      ]
    },
    {
      "cell_type": "code",
      "source": [
        "import os\n",
        "print(f\"Direktori kerja saat ini: {os.getcwd()}\")"
      ],
      "metadata": {
        "colab": {
          "base_uri": "https://localhost:8080/"
        },
        "id": "ngX6_HZYubyu",
        "outputId": "dcaa2e2f-86b3-4045-c72e-0e34498382eb"
      },
      "execution_count": 8,
      "outputs": [
        {
          "output_type": "stream",
          "name": "stdout",
          "text": [
            "Direktori kerja saat ini: /content\n"
          ]
        }
      ]
    }
  ]
}